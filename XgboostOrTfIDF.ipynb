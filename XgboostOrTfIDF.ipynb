{
 "cells": [
  {
   "cell_type": "code",
   "execution_count": 1,
   "id": "5f1a8b2b-e72a-4251-b7d3-fdbde6008388",
   "metadata": {},
   "outputs": [],
   "source": [
    "import pandas as pd"
   ]
  },
  {
   "cell_type": "code",
   "execution_count": 7,
   "id": "d37d0385-65ed-46ab-8fd1-86bbc96010b4",
   "metadata": {},
   "outputs": [],
   "source": [
    "df = pd.read_csv('vectotr_with_labels.csv')\n",
    "df2 = pd.read_csv('submission_vectors_with_ids.csv')"
   ]
  },
  {
   "cell_type": "code",
   "execution_count": 19,
   "id": "8a2f1a2f-1c3f-4418-829e-b082e9df0df4",
   "metadata": {},
   "outputs": [],
   "source": [
    "subids=df2['id']\n",
    "df2_dist=df2['8']\n",
    "df2=df2.drop(['id','8'],axis=1)"
   ]
  },
  {
   "cell_type": "code",
   "execution_count": 11,
   "id": "3b6432b0-7ebd-4941-ad3c-15b48dff10be",
   "metadata": {},
   "outputs": [],
   "source": [
    "labels = df['label']\n",
    "df_dist = df['8']\n",
    "df=df.drop(['label','8'],axis=1)\n"
   ]
  },
  {
   "cell_type": "code",
   "execution_count": 27,
   "id": "b44e25e5-0b21-493f-b30c-4a3020bbcbcc",
   "metadata": {},
   "outputs": [
    {
     "name": "stdout",
     "output_type": "stream",
     "text": [
      "Requirement already satisfied: xgboost in ./env/lib/python3.10/site-packages (1.7.6)\n",
      "Requirement already satisfied: numpy in ./env/lib/python3.10/site-packages (from xgboost) (1.24.3)\n",
      "Requirement already satisfied: scipy in ./env/lib/python3.10/site-packages (from xgboost) (1.10.1)\n",
      "0.9986401583613047\n"
     ]
    }
   ],
   "source": [
    "!pip install xgboost\n",
    "from sklearn.metrics import f1_score\n",
    "from xgboost import XGBClassifier\n",
    "from sklearn.model_selection import train_test_split\n",
    "\n",
    "model = XGBClassifier()\n",
    "\n",
    "X_train, X_test, y_trainn, y_test = train_test_split(df, labels, test_size=0.2, random_state=42)\n",
    "model.fit(X_train, y_trainn)\n",
    "preds = model.predict(X_test)\n",
    "f1=f1_score(y_test, preds)\n",
    "print(f1)"
   ]
  },
  {
   "cell_type": "code",
   "execution_count": 46,
   "id": "c7210c22-222b-42d2-bfc2-ca5696ad01be",
   "metadata": {},
   "outputs": [
    {
     "name": "stdout",
     "output_type": "stream",
     "text": [
      "0.9977989223890863\n"
     ]
    }
   ],
   "source": [
    "preds = model.predict(X_test)\n",
    "\n",
    "\n",
    "preds = [p or int(d>0.15) for p,d in zip(preds,df_dist.loc[X_test.index].values)]\n",
    "f1=f1_score(y_test, preds)\n",
    "print(f1)"
   ]
  },
  {
   "cell_type": "code",
   "execution_count": 29,
   "id": "9d23cff1-c0e0-4a7c-8a6c-ba8f1443362f",
   "metadata": {
    "scrolled": true
   },
   "outputs": [
    {
     "data": {
      "text/html": [
       "<div>\n",
       "<style scoped>\n",
       "    .dataframe tbody tr th:only-of-type {\n",
       "        vertical-align: middle;\n",
       "    }\n",
       "\n",
       "    .dataframe tbody tr th {\n",
       "        vertical-align: top;\n",
       "    }\n",
       "\n",
       "    .dataframe thead th {\n",
       "        text-align: right;\n",
       "    }\n",
       "</style>\n",
       "<table border=\"1\" class=\"dataframe\">\n",
       "  <thead>\n",
       "    <tr style=\"text-align: right;\">\n",
       "      <th></th>\n",
       "      <th>0</th>\n",
       "      <th>1</th>\n",
       "      <th>2</th>\n",
       "      <th>3</th>\n",
       "      <th>4</th>\n",
       "      <th>5</th>\n",
       "      <th>6</th>\n",
       "      <th>7</th>\n",
       "    </tr>\n",
       "  </thead>\n",
       "  <tbody>\n",
       "    <tr>\n",
       "      <th>307388</th>\n",
       "      <td>1.500000</td>\n",
       "      <td>4785.0</td>\n",
       "      <td>0.571999</td>\n",
       "      <td>2.0</td>\n",
       "      <td>0.020619</td>\n",
       "      <td>0.010417</td>\n",
       "      <td>0.060606</td>\n",
       "      <td>0.068966</td>\n",
       "    </tr>\n",
       "    <tr>\n",
       "      <th>253355</th>\n",
       "      <td>0.200000</td>\n",
       "      <td>648.0</td>\n",
       "      <td>0.000000</td>\n",
       "      <td>0.0</td>\n",
       "      <td>0.000000</td>\n",
       "      <td>0.000000</td>\n",
       "      <td>0.000000</td>\n",
       "      <td>0.000000</td>\n",
       "    </tr>\n",
       "    <tr>\n",
       "      <th>445732</th>\n",
       "      <td>1.000000</td>\n",
       "      <td>135.0</td>\n",
       "      <td>0.000000</td>\n",
       "      <td>0.0</td>\n",
       "      <td>0.000000</td>\n",
       "      <td>0.000000</td>\n",
       "      <td>0.000000</td>\n",
       "      <td>0.000000</td>\n",
       "    </tr>\n",
       "    <tr>\n",
       "      <th>499121</th>\n",
       "      <td>0.250000</td>\n",
       "      <td>18200.0</td>\n",
       "      <td>0.000000</td>\n",
       "      <td>0.0</td>\n",
       "      <td>0.000000</td>\n",
       "      <td>0.000000</td>\n",
       "      <td>0.000000</td>\n",
       "      <td>0.000000</td>\n",
       "    </tr>\n",
       "    <tr>\n",
       "      <th>228280</th>\n",
       "      <td>1.000000</td>\n",
       "      <td>1375.0</td>\n",
       "      <td>0.000000</td>\n",
       "      <td>0.0</td>\n",
       "      <td>0.000000</td>\n",
       "      <td>0.000000</td>\n",
       "      <td>0.000000</td>\n",
       "      <td>0.000000</td>\n",
       "    </tr>\n",
       "    <tr>\n",
       "      <th>...</th>\n",
       "      <td>...</td>\n",
       "      <td>...</td>\n",
       "      <td>...</td>\n",
       "      <td>...</td>\n",
       "      <td>...</td>\n",
       "      <td>...</td>\n",
       "      <td>...</td>\n",
       "      <td>...</td>\n",
       "    </tr>\n",
       "    <tr>\n",
       "      <th>592683</th>\n",
       "      <td>0.166667</td>\n",
       "      <td>1620.0</td>\n",
       "      <td>0.000000</td>\n",
       "      <td>0.0</td>\n",
       "      <td>0.000000</td>\n",
       "      <td>0.000000</td>\n",
       "      <td>0.000000</td>\n",
       "      <td>0.000000</td>\n",
       "    </tr>\n",
       "    <tr>\n",
       "      <th>925436</th>\n",
       "      <td>0.142857</td>\n",
       "      <td>720.0</td>\n",
       "      <td>0.000000</td>\n",
       "      <td>0.0</td>\n",
       "      <td>0.000000</td>\n",
       "      <td>0.000000</td>\n",
       "      <td>0.000000</td>\n",
       "      <td>0.000000</td>\n",
       "    </tr>\n",
       "    <tr>\n",
       "      <th>808597</th>\n",
       "      <td>2.500000</td>\n",
       "      <td>2700.0</td>\n",
       "      <td>1.029765</td>\n",
       "      <td>4.0</td>\n",
       "      <td>0.060150</td>\n",
       "      <td>0.031008</td>\n",
       "      <td>0.087802</td>\n",
       "      <td>0.160000</td>\n",
       "    </tr>\n",
       "    <tr>\n",
       "      <th>292747</th>\n",
       "      <td>0.200000</td>\n",
       "      <td>2280.0</td>\n",
       "      <td>0.000000</td>\n",
       "      <td>0.0</td>\n",
       "      <td>0.000000</td>\n",
       "      <td>0.000000</td>\n",
       "      <td>0.000000</td>\n",
       "      <td>0.000000</td>\n",
       "    </tr>\n",
       "    <tr>\n",
       "      <th>63081</th>\n",
       "      <td>0.200000</td>\n",
       "      <td>625.0</td>\n",
       "      <td>0.000000</td>\n",
       "      <td>0.0</td>\n",
       "      <td>0.000000</td>\n",
       "      <td>0.000000</td>\n",
       "      <td>0.000000</td>\n",
       "      <td>0.000000</td>\n",
       "    </tr>\n",
       "  </tbody>\n",
       "</table>\n",
       "<p>189647 rows × 8 columns</p>\n",
       "</div>"
      ],
      "text/plain": [
       "               0        1         2    3         4         5         6  \\\n",
       "307388  1.500000   4785.0  0.571999  2.0  0.020619  0.010417  0.060606   \n",
       "253355  0.200000    648.0  0.000000  0.0  0.000000  0.000000  0.000000   \n",
       "445732  1.000000    135.0  0.000000  0.0  0.000000  0.000000  0.000000   \n",
       "499121  0.250000  18200.0  0.000000  0.0  0.000000  0.000000  0.000000   \n",
       "228280  1.000000   1375.0  0.000000  0.0  0.000000  0.000000  0.000000   \n",
       "...          ...      ...       ...  ...       ...       ...       ...   \n",
       "592683  0.166667   1620.0  0.000000  0.0  0.000000  0.000000  0.000000   \n",
       "925436  0.142857    720.0  0.000000  0.0  0.000000  0.000000  0.000000   \n",
       "808597  2.500000   2700.0  1.029765  4.0  0.060150  0.031008  0.087802   \n",
       "292747  0.200000   2280.0  0.000000  0.0  0.000000  0.000000  0.000000   \n",
       "63081   0.200000    625.0  0.000000  0.0  0.000000  0.000000  0.000000   \n",
       "\n",
       "               7  \n",
       "307388  0.068966  \n",
       "253355  0.000000  \n",
       "445732  0.000000  \n",
       "499121  0.000000  \n",
       "228280  0.000000  \n",
       "...          ...  \n",
       "592683  0.000000  \n",
       "925436  0.000000  \n",
       "808597  0.160000  \n",
       "292747  0.000000  \n",
       "63081   0.000000  \n",
       "\n",
       "[189647 rows x 8 columns]"
      ]
     },
     "execution_count": 29,
     "metadata": {},
     "output_type": "execute_result"
    }
   ],
   "source": []
  },
  {
   "cell_type": "code",
   "execution_count": null,
   "id": "3e445838-e878-40d9-94f7-51bd6f4c77ac",
   "metadata": {},
   "outputs": [],
   "source": []
  },
  {
   "cell_type": "code",
   "execution_count": 48,
   "id": "9e726471-471d-4660-879c-6587fcef93b3",
   "metadata": {},
   "outputs": [],
   "source": [
    "model.fit(df.values, labels.values)\n",
    "preds = model.predict(df2.values)\n",
    "preds = [p or int(d>0.08) for p,d in zip(preds,df2_dist.values)]\n",
    "dfexpe=pd.DataFrame(zip(subids.values,preds),columns=[\"id\",\"label\"])\n",
    "dfexpe.to_csv(\"or_submission_1.csv\",index=False)"
   ]
  },
  {
   "cell_type": "code",
   "execution_count": null,
   "id": "35ec097a-df2c-48b9-a768-43ff54f1d905",
   "metadata": {},
   "outputs": [],
   "source": []
  }
 ],
 "metadata": {
  "kernelspec": {
   "display_name": "Python 3 (ipykernel)",
   "language": "python",
   "name": "python3"
  },
  "language_info": {
   "codemirror_mode": {
    "name": "ipython",
    "version": 3
   },
   "file_extension": ".py",
   "mimetype": "text/x-python",
   "name": "python",
   "nbconvert_exporter": "python",
   "pygments_lexer": "ipython3",
   "version": "3.10.6"
  }
 },
 "nbformat": 4,
 "nbformat_minor": 5
}
