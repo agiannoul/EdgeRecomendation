{
 "cells": [
  {
   "cell_type": "markdown",
   "id": "18465b14-f367-436c-a225-1d866159685b",
   "metadata": {},
   "source": [
    "In this approach, we solely utilize the descriptions of the nodes. We construct TF-IDF vectors based on the node descriptions and calculate the similarity between nodes. By applying an optimized threshold, we predict the presence of a link between two nodes if their similarity exceeds this threshold."
   ]
  },
  {
   "cell_type": "markdown",
   "id": "8beb2376-0676-48d4-96f6-e9f0e0cbecde",
   "metadata": {},
   "source": [
    "## Offline processing"
   ]
  },
  {
   "cell_type": "markdown",
   "id": "9335dc8d-7956-4ff2-9882-2e12c3d7ed33",
   "metadata": {},
   "source": [
    "Load data and create TF-IDF vectors"
   ]
  },
  {
   "cell_type": "code",
   "execution_count": 1,
   "id": "3ec46af6-1b96-4bcd-a114-be46d60c63f0",
   "metadata": {},
   "outputs": [
    {
     "name": "stdout",
     "output_type": "stream",
     "text": [
      "53.81601428985596\n"
     ]
    }
   ],
   "source": [
    "import pandas as pd\n",
    "import time\n",
    "dfdesc= pd.read_csv('nodes/nodes.tsv', sep='\\t', header=0)\n",
    "\n",
    "dfdesc=dfdesc.set_index('id')\n",
    "\n",
    "\n",
    "from sklearn.feature_extraction.text import TfidfVectorizer\n",
    "start = time.time()\n",
    "dfdesc = dfdesc.fillna(\"\")\n",
    "corpus = dfdesc.values[:,0]\n",
    "\n",
    "vectorizer = TfidfVectorizer()\n",
    "\n",
    "\n",
    "Xtfidf = vectorizer.fit_transform(corpus)\n"
   ]
  },
  {
   "cell_type": "markdown",
   "id": "8e5a2979-d0f1-4fe3-a7c7-c26ce05f9f7c",
   "metadata": {},
   "source": [
    "Save vectors for future use"
   ]
  },
  {
   "cell_type": "code",
   "execution_count": 3,
   "id": "438939dd-a683-40b4-a1aa-f24389232701",
   "metadata": {},
   "outputs": [
    {
     "name": "stderr",
     "output_type": "stream",
     "text": [
      "100%|████████████████████████████| 837834/837834 [00:44<00:00, 18637.41it/s]\n"
     ]
    }
   ],
   "source": [
    "# write in file\n",
    "from tqdm import tqdm\n",
    "tqdm.pandas()\n",
    "\n",
    "sparsevectors={}\n",
    "\n",
    "for i in tqdm(range(Xtfidf.shape[0])):\n",
    "    sparsevectors[dfdesc.index[i]]=Xtfidf[i]\n",
    "\n",
    "import pickle \n",
    "\n",
    "with open('text_vectors.pkl', 'wb') as f:\n",
    "    pickle.dump(sparsevectors, f)"
   ]
  },
  {
   "cell_type": "markdown",
   "id": "ba07f2e3-395b-4c30-a396-d8c8dd8a1dc2",
   "metadata": {},
   "source": [
    "Calculate description similarities using vvectors from tf-idf (cosine similarity) on training data"
   ]
  },
  {
   "cell_type": "code",
   "execution_count": null,
   "id": "63a00db5-79a2-4a09-a6e9-d5ed5ecaca1c",
   "metadata": {},
   "outputs": [],
   "source": [
    "from sklearn.metrics.pairwise import cosine_similarity\n",
    "\n",
    "df_edges_test=pd.read_csv('train.csv')\n",
    "#df_edges_test= df_edges_test.iloc[:int(len(df_edges_test)*0.01)]\n",
    "\n",
    "def distance_description(tup)->float:\n",
    "    '''\n",
    "    This method can be changed to any distance\n",
    "    '''\n",
    "    source=tup[0]\n",
    "    target=tup[1]\n",
    "    sp1=sparsevectors[source]\n",
    "    sp2=sparsevectors[target]\n",
    "    \n",
    "    return cosine_similarity(sp1,sp2)[0][0]\n",
    "import time\n",
    "\n",
    "from tqdm import tqdm\n",
    "from multiprocessing import Pool\n",
    "\n",
    "my_preds=[]\n",
    "start = time.time()\n",
    "\n",
    "tups=[]\n",
    "for ind, row in tqdm(df_edges_test.iterrows()):\n",
    "    tups.append((row[\"id1\"],row[\"id2\"]))\n",
    "with Pool(avpool) as p:\n",
    "    data=p.map(distance_description, tups)\n",
    "    end = time.time()\n",
    "    print(end-start)\n",
    "    dfsimilarities=pd.DataFrame(zip(df_edges_test[\"id\"],data),columns=[\"id\",\"similarity\"])\n",
    "    dfsimilarities.to_csv(\"train_similarities.csv\")"
   ]
  },
  {
   "cell_type": "markdown",
   "id": "e5a98b9f-79bd-41ac-be57-dbc655c3ef98",
   "metadata": {},
   "source": [
    "## Online"
   ]
  },
  {
   "cell_type": "markdown",
   "id": "3dd7aaaf-b875-4fb8-8247-b8f385e9e2cb",
   "metadata": {},
   "source": [
    "Load description vectors of nodes"
   ]
  },
  {
   "cell_type": "code",
   "execution_count": 4,
   "id": "8ea15602-e362-49c9-8377-78faa4201ff1",
   "metadata": {},
   "outputs": [],
   "source": [
    "from sklearn.metrics.pairwise import cosine_similarity\n",
    "import pickle \n",
    "import pandas as pd\n",
    "sparsevectors={}\n",
    "with open('text_vectors.pkl', 'rb') as f:\n",
    "    sparsevectors = pickle.load(f)\n",
    "\n",
    "df_edges_test=pd.read_csv('test.csv')\n",
    "#df_edges_test= df_edges_test.iloc[:int(len(df_edges_test)*0.01)]\n",
    "\n",
    "def distance_description(tup)->float:\n",
    "    '''\n",
    "    This method can be changed to any distance\n",
    "    '''\n",
    "    source=tup[0]\n",
    "    target=tup[1]\n",
    "    sp1=sparsevectors[source]\n",
    "    sp2=sparsevectors[target]\n",
    "    \n",
    "    return cosine_similarity(sp1,sp2)[0][0]\n",
    "import time\n",
    "\n"
   ]
  },
  {
   "cell_type": "markdown",
   "id": "529c4b01-9d05-408a-91eb-01ce8389da78",
   "metadata": {},
   "source": [
    "Calculate similarity for test pairs, and use threshold to propose edge"
   ]
  },
  {
   "cell_type": "code",
   "execution_count": 5,
   "id": "515373f9-e398-4f88-85d9-c14ab3f64cdd",
   "metadata": {},
   "outputs": [
    {
     "name": "stderr",
     "output_type": "stream",
     "text": [
      "238364it [00:06, 35109.64it/s]\n"
     ]
    },
    {
     "name": "stdout",
     "output_type": "stream",
     "text": [
      "181.13813757896423\n"
     ]
    }
   ],
   "source": [
    "#threads\n",
    "avpool=4\n",
    "\n",
    "from tqdm import tqdm\n",
    "from multiprocessing import Pool\n",
    "\n",
    "my_preds=[]\n",
    "start = time.time()\n",
    "\n",
    "tups=[]\n",
    "for ind, row in tqdm(df_edges_test.iterrows()):\n",
    "    tups.append((row[\"id1\"],row[\"id2\"]))\n",
    "with Pool(avpool) as p:\n",
    "    data=p.map(distance_description, tups)\n",
    "    end = time.time()\n",
    "    print(end-start)\n",
    "    dfsimilarities=pd.DataFrame(zip(df_edges_test[\"id\"],data),columns=[\"id\",\"similarity\"])\n",
    "    dfsimilarities.to_csv(\"test_similarities.csv\")\n",
    "    # produce submission\n",
    "    preds = [int(d>0.0505) for d in data]\n",
    "    dfexpe=pd.DataFrame(zip(df_edges_test[\"id\"],preds),columns=[\"id\",\"label\"])\n",
    "    dfexpe.to_csv(\"D_submission.csv\",index=False)"
   ]
  }
 ],
 "metadata": {
  "kernelspec": {
   "display_name": "Python 3 (ipykernel)",
   "language": "python",
   "name": "python3"
  },
  "language_info": {
   "codemirror_mode": {
    "name": "ipython",
    "version": 3
   },
   "file_extension": ".py",
   "mimetype": "text/x-python",
   "name": "python",
   "nbconvert_exporter": "python",
   "pygments_lexer": "ipython3",
   "version": "3.10.9"
  }
 },
 "nbformat": 4,
 "nbformat_minor": 5
}
