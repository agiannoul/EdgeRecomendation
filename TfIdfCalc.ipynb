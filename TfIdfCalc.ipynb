{
 "cells": [
  {
   "cell_type": "markdown",
   "id": "98cb000b",
   "metadata": {},
   "source": [
    "## build tf idf vectorizer and fit it to all node's text"
   ]
  },
  {
   "cell_type": "code",
   "execution_count": null,
   "id": "38b91fec",
   "metadata": {},
   "outputs": [],
   "source": [
    "dfdesc= pd.read_csv('nodes/nodes.tsv', sep='\\t', header=0)\n",
    "\n",
    "dfdesc=dfdesc.set_index('id')\n",
    "\n",
    "\n",
    "from sklearn.feature_extraction.text import TfidfVectorizer\n",
    "\n",
    "dfdesc = dfdesc.fillna(\"\")\n",
    "corpus = dfdesc.values[:,0]\n",
    "\n",
    "vectorizer = TfidfVectorizer()\n",
    "X = vectorizer.fit_transform(corpus)\n",
    "\n",
    "from tqdm import tqdm\n",
    "tqdm.pandas()\n",
    "\n",
    "sparsevectors={}\n",
    "\n",
    "for i in tqdm(range(X.shape[0])):\n",
    "    sparsevectors[dfdesc.index[i]]=X[i]"
   ]
  },
  {
   "cell_type": "markdown",
   "id": "9b7c722f",
   "metadata": {},
   "source": [
    "## Save data to pickle"
   ]
  },
  {
   "cell_type": "code",
   "execution_count": null,
   "id": "17d182c1",
   "metadata": {},
   "outputs": [],
   "source": [
    "import pickle \n",
    "\n",
    "with open('text_vectors.pkl', 'wb') as f:\n",
    "    pickle.dump(sparsevectors, f)"
   ]
  }
 ],
 "metadata": {
  "kernelspec": {
   "display_name": "Python 3 (ipykernel)",
   "language": "python",
   "name": "python3"
  },
  "language_info": {
   "codemirror_mode": {
    "name": "ipython",
    "version": 3
   },
   "file_extension": ".py",
   "mimetype": "text/x-python",
   "name": "python",
   "nbconvert_exporter": "python",
   "pygments_lexer": "ipython3",
   "version": "3.10.9"
  }
 },
 "nbformat": 4,
 "nbformat_minor": 5
}
