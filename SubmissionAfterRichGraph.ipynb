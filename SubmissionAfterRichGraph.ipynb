{
 "cells": [
  {
   "cell_type": "markdown",
   "id": "a360a0f2-4dbb-48c4-930a-012ded5f2ea5",
   "metadata": {},
   "source": [
    "# BUILD GRAPH (WITH ALL NODES THIS TIME) AND LOAD RESOURCES"
   ]
  },
  {
   "cell_type": "code",
   "execution_count": 7,
   "id": "8190c5a5-9b23-47d7-a931-4a492e6893a1",
   "metadata": {},
   "outputs": [],
   "source": [
    "import pickle \n",
    "import networkx as nx\n",
    "\n",
    "\n",
    "sparsevectors={}\n",
    "with open('text_vectors.pkl', 'rb') as f:\n",
    "    sparsevectors = pickle.load(f)\n",
    "\n",
    "import pandas as pd\n",
    "\n",
    "df_edges=pd.read_csv('train.csv')\n",
    "\n",
    "df_edges_all = df_edges[['id1', 'id2']]\n",
    "\n",
    "# load edges from tzt file (new_edges.txt)\n",
    "dfouredges=pd.read_csv(\"new_edges.txt\",header=None,names=[\"id1\",\"id2\"])\n",
    "\n",
    "dfouredges[\"id1\"]=dfouredges[\"id1\"].astype(int)\n",
    "dfouredges[\"id2\"]=dfouredges[\"id2\"].astype(int)\n",
    "\n",
    "df_edges_all=pd.concat([df_edges_all, dfouredges], ignore_index=True)\n",
    "\n",
    "\n",
    "nodes=list(sparsevectors.keys())\n",
    "\n",
    "\n",
    "\n",
    "G= nx.Graph()\n",
    "#add nodes\n",
    "G.add_nodes_from(nodes)\n",
    "#add edges\n",
    "edges = [(row.id1,row.id2) for row in df_edges[df_edges[\"label\"]==1].itertuples()]\n",
    "G.add_edges_from(edges)\n",
    "edges2 = [(row.id1,row.id2) for row in dfouredges.itertuples()]\n",
    "G.add_edges_from(edges2)"
   ]
  },
  {
   "cell_type": "code",
   "execution_count": 8,
   "id": "2354eda5-fdeb-4316-8681-da31ef5b320d",
   "metadata": {},
   "outputs": [],
   "source": [
    "import math\n",
    "from tqdm import tqdm\n",
    "# Adding methods proposed in the https://link.springer.com/content/pdf/10.1038/s41598-019-57304-y.pdf\n",
    "def shortest_path(G:nx.Graph,source:int,target:int)->float:\n",
    "    try:\n",
    "        p=nx.shortest_path(G,source=source,target=target)\n",
    "        return len(p)-1\n",
    "    except nx.NetworkXNoPath:\n",
    "        return float(\"inf\")\n",
    "\n",
    "def distance(G:nx.Graph,source:int,target:int)->float:\n",
    "   '''\n",
    "   This method can be changed to any distance\n",
    "   '''\n",
    "   return shortest_path(G,source,target)\n",
    "\n",
    "from sklearn.metrics.pairwise import cosine_similarity\n",
    "def distance_description(G,source:int,target:int)->float:\n",
    "    '''\n",
    "    This method can be changed to any distance\n",
    "    '''\n",
    "    \n",
    "    \n",
    "    sp1=sparsevectors[source]\n",
    "    sp2=sparsevectors[target]\n",
    "    \n",
    "    return cosine_similarity(sp1,sp2)[0][0]\n",
    "\n",
    "\n",
    "def closeness_centrality(G:nx.Graph, source:int, target:int)->float:\n",
    "    dxy = nx.shortest_path(G,source=source,target=target)\n",
    "    return G.number_of_nodes()/shortest_path(G,source,target)\n",
    "\n",
    "def common_neighbors(G:nx.Graph, source:int, target:int)->list:\n",
    "    s_neighbors = list(G.adj[source].keys())\n",
    "    t_neighbors = list(G.adj[target].keys())\n",
    "    common_neighbors = set(s_neighbors).intersection(t_neighbors)\n",
    "    return common_neighbors\n",
    "\n",
    "def CCPA(G:nx.Graph, source:int, target:int,a:float = 0.5)->float:\n",
    "    '''\n",
    "    Common Neighbor and Centrality based Parameterized Algorithm\n",
    "    '''\n",
    "    return a*closeness_centrality(G,source,target)+(1-a)*len(common_neighbors(G,source,target))\n",
    "\n",
    "def CND(G:nx.Graph, source:int, target:int)->float:\n",
    "    '''\n",
    "    Common Neighbor and Distance\n",
    "    '''\n",
    "    cn = common_neighbors(G,source,target)\n",
    "    if len(cn)>0:\n",
    "        return (len(cn)+1)/2\n",
    "    else:\n",
    "        if distance(G,source,target)==0:\n",
    "            return 0\n",
    "        return 1/distance(G,source,target)\n",
    "\n",
    "def PA(G:nx.Graph, source:int, target:int)->float:\n",
    "    '''\n",
    "    Preferential Attachment\n",
    "    '''\n",
    "    return G.degree[source]*G.degree[target]\n",
    "\n",
    "def AA(G:nx.Graph, source:int, target:int)->float:\n",
    "    '''\n",
    "    Adamic Adar\n",
    "    '''\n",
    "    similarity = 0.0\n",
    "    for neighbor in common_neighbors(G,source,target):\n",
    "        degree = G.degree[neighbor]\n",
    "        if degree > 1:\n",
    "            similarity += 1 / math.log(degree)\n",
    "    return similarity\n",
    "\n",
    "def CN(G:nx.Graph, source:int, target:int)->float:\n",
    "    '''\n",
    "    Common Neighbor\n",
    "    '''\n",
    "    return len(common_neighbors(G,source,target))\n",
    "\n",
    "def SI(G:nx.Graph, source:int, target:int)->float:\n",
    "    '''\n",
    "    Sorensen Index\n",
    "    '''\n",
    "    if (G.degree[source]+G.degree[target]) ==0:\n",
    "        return 0\n",
    "    return 2*CN(G,source,target)/(G.degree[source]+G.degree[target])\n",
    "\n",
    "def JI(G:nx.Graph, source:int, target:int)->float:\n",
    "    '''\n",
    "    Jaccard Index\n",
    "    '''\n",
    "    s_neighbors = list(G.adj[source].keys())\n",
    "    t_neighbors = list(G.adj[target].keys())\n",
    "    common_neighbors = set(s_neighbors).intersection(t_neighbors)\n",
    "    all_neighbors = set(s_neighbors).union(t_neighbors)\n",
    "    if len(all_neighbors)==0:\n",
    "        return 0\n",
    "    return len(common_neighbors)/len(all_neighbors)\n",
    "\n",
    "def RA(G:nx.Graph, source:int, target:int)->float:\n",
    "    '''\n",
    "    Resource Allocation\n",
    "    '''\n",
    "    similarity = 0.0\n",
    "    for neighbor in common_neighbors(G,source,target):\n",
    "        degree = G.degree[neighbor]\n",
    "        if degree > 1:\n",
    "            similarity += 1 / degree\n",
    "    return similarity\n",
    "\n",
    "def HPI(G:nx.Graph, source:int, target:int)->float:\n",
    "    '''\n",
    "    Hub Promoted Index\n",
    "    '''\n",
    "    if min([G.degree[source],G.degree[target]]) ==0 :\n",
    "        return 0\n",
    "    return CN(G,source,target)/min([G.degree[source],G.degree[target]])\n",
    "\n",
    "def create_metric_vector(tup):\n",
    "    G=tup[0]\n",
    "    source= tup[1]\n",
    "    target= tup[2]\n",
    "    functions = [CND, PA, AA, CN, SI, JI, RA, HPI,distance_description]\n",
    "    outputs = []\n",
    "    for func in functions:\n",
    "        output = func(G, source, target)\n",
    "        outputs.append(output)\n",
    "    return outputs\n",
    "\n",
    "\n"
   ]
  },
  {
   "cell_type": "markdown",
   "id": "ae7cc009-791e-4bf1-a44a-c6454444914d",
   "metadata": {},
   "source": [
    "# TRAIN CLASSIFIER TO TRAIN VECTORS"
   ]
  },
  {
   "cell_type": "code",
   "execution_count": 9,
   "id": "91bf07ba-2eab-4428-af92-286d01ae1354",
   "metadata": {},
   "outputs": [],
   "source": [
    "import pandas as pd\n",
    "Xcopy = pd.read_csv(\"vectotr_with_labels.csv\")\n",
    "Xcopy.head()\n",
    "Y=Xcopy[\"label\"]\n",
    "X=Xcopy.drop([\"label\"],axis=1)"
   ]
  },
  {
   "cell_type": "code",
   "execution_count": 11,
   "id": "7c56ff96-22a1-44ee-b0c5-41c4a8094ae0",
   "metadata": {},
   "outputs": [
    {
     "name": "stdout",
     "output_type": "stream",
     "text": [
      "0.998829308603434\n"
     ]
    }
   ],
   "source": [
    "from sklearn.metrics import f1_score\n",
    "from xgboost import XGBClassifier\n",
    "from sklearn.model_selection import train_test_split\n",
    "\n",
    "model = XGBClassifier()\n",
    "\n",
    "X_train, X_test, y_trainn, y_test = train_test_split(X, Y, test_size=0.2, random_state=42)\n",
    "model.fit(X_train, y_trainn)\n",
    "preds = model.predict(X_test)\n",
    "f1=f1_score(y_test, preds)\n",
    "print(f1)"
   ]
  },
  {
   "cell_type": "markdown",
   "id": "246b4620-09ed-4405-afb8-2360e95ec0ec",
   "metadata": {},
   "source": [
    "# BUILD SUBMISION VECTORS"
   ]
  },
  {
   "cell_type": "code",
   "execution_count": null,
   "id": "93e676eb-4f25-4a52-8812-5ce24e7705de",
   "metadata": {},
   "outputs": [],
   "source": []
  },
  {
   "cell_type": "code",
   "execution_count": null,
   "id": "b0e2e3cd-792a-423b-9c8a-571a32e45ef1",
   "metadata": {},
   "outputs": [],
   "source": []
  },
  {
   "cell_type": "code",
   "execution_count": 12,
   "id": "eac53ff5-da49-47b7-8264-9686237062df",
   "metadata": {},
   "outputs": [
    {
     "data": {
      "text/html": [
       "<div>\n",
       "<style scoped>\n",
       "    .dataframe tbody tr th:only-of-type {\n",
       "        vertical-align: middle;\n",
       "    }\n",
       "\n",
       "    .dataframe tbody tr th {\n",
       "        vertical-align: top;\n",
       "    }\n",
       "\n",
       "    .dataframe thead th {\n",
       "        text-align: right;\n",
       "    }\n",
       "</style>\n",
       "<table border=\"1\" class=\"dataframe\">\n",
       "  <thead>\n",
       "    <tr style=\"text-align: right;\">\n",
       "      <th></th>\n",
       "      <th>id</th>\n",
       "      <th>id1</th>\n",
       "      <th>id2</th>\n",
       "    </tr>\n",
       "  </thead>\n",
       "  <tbody>\n",
       "    <tr>\n",
       "      <th>0</th>\n",
       "      <td>4</td>\n",
       "      <td>253077</td>\n",
       "      <td>253077</td>\n",
       "    </tr>\n",
       "    <tr>\n",
       "      <th>1</th>\n",
       "      <td>5</td>\n",
       "      <td>235274</td>\n",
       "      <td>65408</td>\n",
       "    </tr>\n",
       "    <tr>\n",
       "      <th>2</th>\n",
       "      <td>10</td>\n",
       "      <td>172772</td>\n",
       "      <td>677546</td>\n",
       "    </tr>\n",
       "    <tr>\n",
       "      <th>3</th>\n",
       "      <td>14</td>\n",
       "      <td>378856</td>\n",
       "      <td>175720</td>\n",
       "    </tr>\n",
       "    <tr>\n",
       "      <th>4</th>\n",
       "      <td>20</td>\n",
       "      <td>825250</td>\n",
       "      <td>35839</td>\n",
       "    </tr>\n",
       "  </tbody>\n",
       "</table>\n",
       "</div>"
      ],
      "text/plain": [
       "   id     id1     id2\n",
       "0   4  253077  253077\n",
       "1   5  235274   65408\n",
       "2  10  172772  677546\n",
       "3  14  378856  175720\n",
       "4  20  825250   35839"
      ]
     },
     "execution_count": 12,
     "metadata": {},
     "output_type": "execute_result"
    }
   ],
   "source": [
    "df_edges_test=pd.read_csv('test.csv')\n",
    "df_edges_test.head()"
   ]
  },
  {
   "cell_type": "code",
   "execution_count": 15,
   "id": "3101353e-4ff5-4356-a966-e1fb7dc0b577",
   "metadata": {},
   "outputs": [
    {
     "name": "stderr",
     "output_type": "stream",
     "text": [
      "100%|███████████████████████████████████| 238364/238364 [54:36<00:00, 72.75it/s]\n"
     ]
    }
   ],
   "source": [
    "tqdm.pandas()\n",
    "def makedatasetapply_TEST(df):\n",
    "    datadf = df.progress_apply(lambda row: create_metric_vector((G,row['id1'],row['id2'])), axis=1,result_type='expand')\n",
    "    return datadf\n",
    "\n",
    "\n",
    "\n",
    "Xsub=makedatasetapply_TEST(df_edges_test)\n"
   ]
  },
  {
   "cell_type": "code",
   "execution_count": 16,
   "id": "291a9ab0-474d-4536-8fbb-9fe57e8bf762",
   "metadata": {},
   "outputs": [],
   "source": [
    "Xtest=Xsub.copy()\n",
    "Xtest[\"id\"]=df_edges_test[\"id\"]\n",
    "Xtest.to_csv(\"submission_vectors_with_ids.csv\",index=False)"
   ]
  },
  {
   "cell_type": "code",
   "execution_count": 17,
   "id": "4fdf99d0-0a02-4913-bf78-44de8f8eb995",
   "metadata": {},
   "outputs": [],
   "source": [
    "my_preds = model.predict(Xsub)\n",
    "dfmysub=pd.DataFrame(zip(df_edges_test[\"id\"].values,my_preds),columns=[\"id\",\"label\"])\n",
    "dfmysub.to_csv(\"enhanced_submission.csv\",index=False)"
   ]
  },
  {
   "cell_type": "code",
   "execution_count": null,
   "id": "9a5d6fb5-9b2d-45a1-8e5e-125789866523",
   "metadata": {},
   "outputs": [],
   "source": []
  },
  {
   "cell_type": "code",
   "execution_count": null,
   "id": "1a8375d8-9c08-4c62-b1a7-af5a84520e60",
   "metadata": {},
   "outputs": [],
   "source": []
  },
  {
   "cell_type": "code",
   "execution_count": 35,
   "id": "c2e58131-0f25-43d8-a1ac-3febe45763ac",
   "metadata": {},
   "outputs": [
    {
     "name": "stdout",
     "output_type": "stream",
     "text": [
      "           0      1         2     3         4         5         6    7  \\\n",
      "0  14.500000  784.0  5.709591  28.0  1.000000  1.000000  0.289523  1.0   \n",
      "1   0.200000  168.0  0.000000   0.0  0.000000  0.000000  0.000000  0.0   \n",
      "2   0.166667  957.0  0.000000   0.0  0.000000  0.000000  0.000000  0.0   \n",
      "3   0.200000  696.0  0.000000   0.0  0.000000  0.000000  0.000000  0.0   \n",
      "4   6.000000  407.0  3.169911  11.0  0.458333  0.297297  0.345267  1.0   \n",
      "\n",
      "          8  \n",
      "0  1.000000  \n",
      "1  0.003589  \n",
      "2  0.042467  \n",
      "3  0.005677  \n",
      "4  0.634040  \n"
     ]
    },
    {
     "data": {
      "text/plain": [
       "(238364, 1)"
      ]
     },
     "execution_count": 35,
     "metadata": {},
     "output_type": "execute_result"
    }
   ],
   "source": [
    "dfoldsub=pd.read_csv(\"submission\",index_col=0)\n",
    "print(Xsub.head())\n",
    "dfoldsub.shape"
   ]
  },
  {
   "cell_type": "code",
   "execution_count": 39,
   "id": "b1d6d83d-6129-450f-9b88-3c2534794b1b",
   "metadata": {},
   "outputs": [],
   "source": [
    "preds = model.predict(Xsub)\n",
    "preds2= [1 if d>0.0505 else 0 for d in Xsub[Xsub.columns[8]]]\n",
    "final_preds=[p or p2 for p,p2 in zip(preds,preds2)]\n",
    "f1=f1_score(dfoldsub.label, final_preds)"
   ]
  },
  {
   "cell_type": "code",
   "execution_count": 40,
   "id": "a483616d-c06a-4ee5-a543-2a517b1c4c30",
   "metadata": {},
   "outputs": [
    {
     "data": {
      "text/plain": [
       "0.9886038155490868"
      ]
     },
     "execution_count": 40,
     "metadata": {},
     "output_type": "execute_result"
    }
   ],
   "source": [
    "f1"
   ]
  },
  {
   "cell_type": "code",
   "execution_count": 34,
   "id": "f4a71ba2-0adf-4d5a-8cdf-ec44707714f6",
   "metadata": {},
   "outputs": [
    {
     "name": "stdout",
     "output_type": "stream",
     "text": [
      "[9.9799126e-01 2.0889821e-04 2.2802259e-04 0.0000000e+00 3.9583005e-04\n",
      " 1.2665906e-04 5.8138010e-04 2.0926987e-04 2.5863256e-04]\n"
     ]
    }
   ],
   "source": [
    "print(model.feature_importances_)"
   ]
  },
  {
   "cell_type": "code",
   "execution_count": 41,
   "id": "1401fc87-a0eb-4ca9-bda3-ea72b75eb4dd",
   "metadata": {},
   "outputs": [],
   "source": [
    "dfexpe=pd.DataFrame(zip(df_edges_test[\"id\"].values,final_preds),columns=[\"id\",\"label\"])\n",
    "dfexpe.to_csv(\"not_submission.csv\",index=False)"
   ]
  },
  {
   "cell_type": "code",
   "execution_count": null,
   "id": "1aef8a9f-8be5-441a-8865-32455e2d6b89",
   "metadata": {},
   "outputs": [],
   "source": []
  }
 ],
 "metadata": {
  "kernelspec": {
   "display_name": "Python 3 (ipykernel)",
   "language": "python",
   "name": "python3"
  },
  "language_info": {
   "codemirror_mode": {
    "name": "ipython",
    "version": 3
   },
   "file_extension": ".py",
   "mimetype": "text/x-python",
   "name": "python",
   "nbconvert_exporter": "python",
   "pygments_lexer": "ipython3",
   "version": "3.10.6"
  }
 },
 "nbformat": 4,
 "nbformat_minor": 5
}
