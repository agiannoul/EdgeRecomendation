{
 "cells": [
  {
   "cell_type": "code",
   "execution_count": 5,
   "id": "ef0203a0-4a5e-432d-9e28-61a3be88d007",
   "metadata": {},
   "outputs": [],
   "source": [
    "import pickle \n",
    "sparsevectors={}\n",
    "with open('text_vectors.pkl', 'rb') as f:\n",
    "    sparsevectors = pickle.load(f)"
   ]
  },
  {
   "cell_type": "markdown",
   "id": "dcbf06b5-cb67-4dd5-96b7-db0557c37fcd",
   "metadata": {},
   "source": [
    "# Use distance to add new edges to graph"
   ]
  },
  {
   "cell_type": "code",
   "execution_count": 19,
   "id": "f16b7989-af35-47cd-91a8-f43b5987b365",
   "metadata": {},
   "outputs": [],
   "source": [
    "from sklearn.metrics.pairwise import cosine_similarity\n",
    "\n",
    "def distance_description(tup)->float:\n",
    "    '''\n",
    "    This method can be changed to any distance\n",
    "    '''\n",
    "    source=tup[0]\n",
    "    target=tup[1]\n",
    "    sp1=sparsevectors[source]\n",
    "    sp2=sparsevectors[target]\n",
    "    \n",
    "    return cosine_similarity(sp1,sp2)[0][0]"
   ]
  },
  {
   "cell_type": "code",
   "execution_count": 1,
   "id": "71279754-e1e3-4c00-92c9-4d724eefdbf9",
   "metadata": {},
   "outputs": [],
   "source": [
    "import pandas as pd\n",
    "\n",
    "dfdesc= pd.read_csv('nodes/nodes.tsv', sep='\\t', header=0)\n",
    "\n",
    "dfdesc=dfdesc.set_index('id')\n",
    "\n",
    "\n",
    "from sklearn.feature_extraction.text import TfidfVectorizer\n",
    "\n",
    "dfdesc = dfdesc.fillna(\"\")\n",
    "corpus = dfdesc.values[:,0]\n",
    "\n",
    "vectorizer = TfidfVectorizer()\n",
    "X = vectorizer.fit_transform(corpus)"
   ]
  },
  {
   "cell_type": "code",
   "execution_count": 2,
   "id": "b698d438-5798-49d1-ae84-fa58dd81d0dc",
   "metadata": {},
   "outputs": [],
   "source": [
    "import pysparnn.cluster_index as ci"
   ]
  },
  {
   "cell_type": "code",
   "execution_count": 6,
   "id": "b61c30f8-ab36-42c6-8882-2976cda05fcd",
   "metadata": {},
   "outputs": [],
   "source": [
    "cp = ci.MultiClusterIndex(X, dfdesc.index)\n",
    "\n",
    "\n"
   ]
  },
  {
   "cell_type": "code",
   "execution_count": 41,
   "id": "786fb509-7f6e-4e2d-875d-ca4842c67f29",
   "metadata": {},
   "outputs": [],
   "source": [
    "def getsimilartups(idn):\n",
    "    res=cp.search(sparsevectors[idn], k=25, k_clusters=1, return_distance=True)\n",
    "    tups=[ (iddd[1],idn) for iddd in res[0] if iddd[0]<0.90]\n",
    "    return tups"
   ]
  },
  {
   "cell_type": "code",
   "execution_count": null,
   "id": "f0297136-69f2-4920-9ce6-0afa6fe108b8",
   "metadata": {},
   "outputs": [],
   "source": [
    "\n",
    "from multiprocessing import Pool\n",
    "\n",
    "with Pool(4) as p:\n",
    "    data=p.map(getsimilartups, list(dfdesc.index))\n",
    "    "
   ]
  },
  {
   "cell_type": "code",
   "execution_count": null,
   "id": "6ed3c571-0786-467a-853a-d85ee134e6b3",
   "metadata": {},
   "outputs": [],
   "source": [
    "import pickle \n",
    "with open('nnNodes.pkl', 'wb') as f:\n",
    "    pickle.dump(data, f)"
   ]
  },
  {
   "cell_type": "code",
   "execution_count": null,
   "id": "3d8c65fa-83d2-478a-bcaa-6bb3d0075cf5",
   "metadata": {},
   "outputs": [],
   "source": []
  }
 ],
 "metadata": {
  "kernelspec": {
   "display_name": "Python 3 (ipykernel)",
   "language": "python",
   "name": "python3"
  },
  "language_info": {
   "codemirror_mode": {
    "name": "ipython",
    "version": 3
   },
   "file_extension": ".py",
   "mimetype": "text/x-python",
   "name": "python",
   "nbconvert_exporter": "python",
   "pygments_lexer": "ipython3",
   "version": "3.9.7"
  }
 },
 "nbformat": 4,
 "nbformat_minor": 5
}
