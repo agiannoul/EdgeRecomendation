{
 "cells": [
  {
   "cell_type": "code",
   "execution_count": 8,
   "id": "1bd71b1b-5270-49eb-82c8-80581990226a",
   "metadata": {},
   "outputs": [
    {
     "name": "stdout",
     "output_type": "stream",
     "text": [
      "   id     id1     id2\n",
      "0   4  253077  253077\n",
      "1   5  235274   65408\n",
      "2  10  172772  677546\n",
      "3  14  378856  175720\n",
      "4  20  825250   35839\n"
     ]
    }
   ],
   "source": [
    "#Import train dataset\n",
    "import pandas as pd\n",
    "\n",
    "df_test=pd.read_csv('test.csv')\n",
    "print(df_test.head())\n",
    "df_edges_all=pd.read_csv('train.csv')"
   ]
  },
  {
   "cell_type": "code",
   "execution_count": 10,
   "id": "e1909e50-3b8d-4796-b5ce-be668d43ab40",
   "metadata": {},
   "outputs": [],
   "source": [
    "ids1=df_test[\"id1\"].unique()\n",
    "temp=list(ids1)\n",
    "temp.extend(df_test[\"id2\"].unique())\n",
    "ids1=set(temp)\n",
    "\n",
    "\n",
    "ids2=df_edges_all[\"id1\"].unique()\n",
    "temp=list(ids2)\n",
    "temp.extend(df_edges_all[\"id2\"].unique())\n",
    "ids2=set(temp)\n",
    "\n"
   ]
  },
  {
   "cell_type": "code",
   "execution_count": 13,
   "id": "f712bd2e-ac9f-4be3-ab30-22c3c38cba8b",
   "metadata": {},
   "outputs": [
    {
     "name": "stdout",
     "output_type": "stream",
     "text": [
      "154209\n",
      "190614\n",
      "677245\n"
     ]
    }
   ],
   "source": [
    "counter=0\n",
    "for idd in ids1:\n",
    "    if idd not in ids2:\n",
    "        counter+=1\n",
    "print(counter)\n",
    "print(len(ids1))\n",
    "print(len(ids2))"
   ]
  },
  {
   "cell_type": "code",
   "execution_count": null,
   "id": "49a203ac-c9b1-4e74-a4e0-132ca7db969c",
   "metadata": {},
   "outputs": [],
   "source": []
  }
 ],
 "metadata": {
  "kernelspec": {
   "display_name": "Python 3 (ipykernel)",
   "language": "python",
   "name": "python3"
  },
  "language_info": {
   "codemirror_mode": {
    "name": "ipython",
    "version": 3
   },
   "file_extension": ".py",
   "mimetype": "text/x-python",
   "name": "python",
   "nbconvert_exporter": "python",
   "pygments_lexer": "ipython3",
   "version": "3.9.7"
  }
 },
 "nbformat": 4,
 "nbformat_minor": 5
}
