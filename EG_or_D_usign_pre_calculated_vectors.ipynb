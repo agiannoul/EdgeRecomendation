{
 "cells": [
  {
   "cell_type": "markdown",
   "id": "9d21a2ea-1448-4c7f-9d87-3eff5a3268f4",
   "metadata": {},
   "source": [
    "# EG+D implementation using pre calculated data for fast reproducibillity of submission file"
   ]
  },
  {
   "cell_type": "markdown",
   "id": "e789cfae-1a65-47ce-9e65-c992299dfa5e",
   "metadata": {},
   "source": [
    "Load training enhanced graph vectors for calassifier"
   ]
  },
  {
   "cell_type": "code",
   "execution_count": 2,
   "id": "388a9d97-24ab-4944-865f-d94e63d87557",
   "metadata": {},
   "outputs": [],
   "source": [
    "import pandas as pd"
   ]
  },
  {
   "cell_type": "code",
   "execution_count": 3,
   "id": "e0921b06-2d23-4609-a8c4-3b03724ea83a",
   "metadata": {},
   "outputs": [
    {
     "data": {
      "text/plain": [
       "XGBClassifier(base_score=None, booster=None, callbacks=None,\n",
       "              colsample_bylevel=None, colsample_bynode=None,\n",
       "              colsample_bytree=None, early_stopping_rounds=None,\n",
       "              enable_categorical=False, eval_metric=None, feature_types=None,\n",
       "              gamma=None, gpu_id=None, grow_policy=None, importance_type=None,\n",
       "              interaction_constraints=None, learning_rate=None, max_bin=None,\n",
       "              max_cat_threshold=None, max_cat_to_onehot=None,\n",
       "              max_delta_step=None, max_depth=None, max_leaves=None,\n",
       "              min_child_weight=None, missing=nan, monotone_constraints=None,\n",
       "              n_estimators=100, n_jobs=None, num_parallel_tree=None,\n",
       "              predictor=None, random_state=None, ...)"
      ]
     },
     "execution_count": 3,
     "metadata": {},
     "output_type": "execute_result"
    }
   ],
   "source": [
    "from sklearn.metrics import f1_score\n",
    "from xgboost import XGBClassifier\n",
    "model = XGBClassifier()\n",
    "\n",
    "Xcopy=pd.read_csv(\"enhance_vectors_with_labels.csv\")\n",
    "Y=Xcopy[\"label\"]\n",
    "X=Xcopy.drop([\"label\"],axis=1)\n",
    "model.fit(X, Y)"
   ]
  },
  {
   "cell_type": "markdown",
   "id": "2d2a8c47-1bf6-43db-8bd3-a93eed3ce8c5",
   "metadata": {},
   "source": [
    "Load test enhanced graph vectors"
   ]
  },
  {
   "cell_type": "code",
   "execution_count": 4,
   "id": "4039ead2-edc6-4241-8a0e-ea5c3d8752ad",
   "metadata": {},
   "outputs": [],
   "source": [
    "Xcopy=pd.read_csv(\"enhance_vectors_test.csv\")\n",
    "\n",
    "X_test=Xcopy\n",
    "\n",
    "predsEG = model.predict(X_test)"
   ]
  },
  {
   "cell_type": "markdown",
   "id": "c24ba6b1-fc9b-4490-9ebf-9f6506bbe543",
   "metadata": {},
   "source": [
    "Load test cosine similarities over TF-IDF vectors"
   ]
  },
  {
   "cell_type": "code",
   "execution_count": 9,
   "id": "3f848057-f20f-4431-b82d-2cb39e7d74f9",
   "metadata": {},
   "outputs": [],
   "source": [
    "dfsimilarities=pd.read_csv(\"test_similarities.csv\")\n",
    "predd = [int(d>0.08) for d in dfsimilarities[\"similarity\"]]\n",
    "\n",
    "preds = [p or d for p,d in zip(predsEG,predd)]\n"
   ]
  },
  {
   "cell_type": "markdown",
   "id": "73ea8dc7-0d1b-493a-8f5a-73e92eff1b97",
   "metadata": {},
   "source": [
    "produce submission file"
   ]
  },
  {
   "cell_type": "code",
   "execution_count": 11,
   "id": "58f20e19-9fb6-46e4-af73-5c05765fcff7",
   "metadata": {},
   "outputs": [],
   "source": [
    "df_edges_all_test = pd.read_csv(\"test.csv\")\n",
    "dfexpe=pd.DataFrame(zip(df_edges_all_test[\"id\"].values,preds),columns=[\"id\",\"label\"])\n",
    "dfexpe.to_csv(\"enhance_graph_plus_similarities_submission.csv\",index=False)"
   ]
  },
  {
   "cell_type": "code",
   "execution_count": null,
   "id": "918d9c5b-ab7b-45e2-be68-df0cc2cce89b",
   "metadata": {},
   "outputs": [],
   "source": []
  }
 ],
 "metadata": {
  "kernelspec": {
   "display_name": "Python 3 (ipykernel)",
   "language": "python",
   "name": "python3"
  },
  "language_info": {
   "codemirror_mode": {
    "name": "ipython",
    "version": 3
   },
   "file_extension": ".py",
   "mimetype": "text/x-python",
   "name": "python",
   "nbconvert_exporter": "python",
   "pygments_lexer": "ipython3",
   "version": "3.10.9"
  }
 },
 "nbformat": 4,
 "nbformat_minor": 5
}
