{
 "cells": [
  {
   "cell_type": "markdown",
   "id": "37528fb5",
   "metadata": {},
   "source": [
    "## load sparse vectors"
   ]
  },
  {
   "cell_type": "code",
   "execution_count": 4,
   "id": "1023d98f",
   "metadata": {},
   "outputs": [],
   "source": [
    "import pickle \n",
    "sparsevectors={}\n",
    "with open('text_vectors.pkl', 'rb') as f:\n",
    "    sparsevectors = pickle.load(f)"
   ]
  },
  {
   "cell_type": "markdown",
   "id": "c1349e6d",
   "metadata": {},
   "source": [
    "## load Data (and keep trai and test set 0.8/0.2 )"
   ]
  },
  {
   "cell_type": "code",
   "execution_count": 5,
   "id": "bd8b5481",
   "metadata": {},
   "outputs": [],
   "source": [
    "#Import train dataset\n",
    "import pandas as pd\n",
    "\n",
    "df_edges_all=pd.read_csv('train.csv')\n",
    "\n",
    "df_edges= df_edges_all.iloc[:int(len(df_edges_all)*0.8)]\n",
    "df_edges_test = df_edges_all.iloc[int(len(df_edges_all)*0.8):]"
   ]
  },
  {
   "cell_type": "markdown",
   "id": "5483229f",
   "metadata": {},
   "source": [
    "## Build Graph"
   ]
  },
  {
   "cell_type": "code",
   "execution_count": 6,
   "id": "8d3ff41d",
   "metadata": {},
   "outputs": [],
   "source": [
    "# The existing graph\n",
    "import networkx as nx\n",
    "G= nx.Graph()\n",
    "#add nodes\n",
    "nodes = pd.unique(df_edges_all[['id1', 'id2']].values.ravel())\n",
    "G.add_nodes_from(nodes)\n",
    "#add edges\n",
    "edges = [(row.id1,row.id2) for row in df_edges[df_edges[\"label\"]==1].itertuples()]\n",
    "G.add_edges_from(edges)\n",
    "\n",
    "# keeping all the negative edges so we can compare results\n",
    "no_edges = [(row.id1,row.id2) for row in df_edges[df_edges[\"label\"]==0].itertuples()]"
   ]
  },
  {
   "cell_type": "markdown",
   "id": "21606af6",
   "metadata": {},
   "source": [
    "# Feature Engineering (Graph and text based)"
   ]
  },
  {
   "cell_type": "code",
   "execution_count": 7,
   "id": "2fe84264",
   "metadata": {},
   "outputs": [],
   "source": [
    "import math\n",
    "# Adding methods proposed in the https://link.springer.com/content/pdf/10.1038/s41598-019-57304-y.pdf\n",
    "def shortest_path(G:nx.Graph,source:int,target:int)->float:\n",
    "    try:\n",
    "        p=nx.shortest_path(G,source=source,target=target)\n",
    "        return len(p)-1\n",
    "    except nx.NetworkXNoPath:\n",
    "        return float(\"inf\")\n",
    "\n",
    "def distance(G:nx.Graph,source:int,target:int)->float:\n",
    "   '''\n",
    "   This method can be changed to any distance\n",
    "   '''\n",
    "   return shortest_path(G,source,target)\n",
    "\n",
    "from sklearn.metrics.pairwise import cosine_similarity\n",
    "def distance_description(G,source:int,target:int)->float:\n",
    "    '''\n",
    "    This method can be changed to any distance\n",
    "    '''\n",
    "    \n",
    "    \n",
    "    sp1=sparsevectors[source]\n",
    "    sp2=sparsevectors[target]\n",
    "    \n",
    "    return cosine_similarity(sp1,sp2)[0][0]\n",
    "\n",
    "\n",
    "def closeness_centrality(G:nx.Graph, source:int, target:int)->float:\n",
    "    dxy = nx.shortest_path(G,source=source,target=target)\n",
    "    return G.number_of_nodes()/shortest_path(G,source,target)\n",
    "\n",
    "def common_neighbors(G:nx.Graph, source:int, target:int)->list:\n",
    "    s_neighbors = list(G.adj[source].keys())\n",
    "    t_neighbors = list(G.adj[target].keys())\n",
    "    common_neighbors = set(s_neighbors).intersection(t_neighbors)\n",
    "    return common_neighbors\n",
    "\n",
    "def CCPA(G:nx.Graph, source:int, target:int,a:float = 0.5)->float:\n",
    "    '''\n",
    "    Common Neighbor and Centrality based Parameterized Algorithm\n",
    "    '''\n",
    "    return a*closeness_centrality(G,source,target)+(1-a)*len(common_neighbors(G,source,target))\n",
    "\n",
    "def CND(G:nx.Graph, source:int, target:int)->float:\n",
    "    '''\n",
    "    Common Neighbor and Distance\n",
    "    '''\n",
    "    cn = common_neighbors(G,source,target)\n",
    "    if len(cn)>0:\n",
    "        return (len(cn)+1)/2\n",
    "    else:\n",
    "        if distance(G,source,target)==0:\n",
    "            return 0\n",
    "        return 1/distance(G,source,target)\n",
    "\n",
    "def PA(G:nx.Graph, source:int, target:int)->float:\n",
    "    '''\n",
    "    Preferential Attachment\n",
    "    '''\n",
    "    return G.degree[source]*G.degree[target]\n",
    "\n",
    "def AA(G:nx.Graph, source:int, target:int)->float:\n",
    "    '''\n",
    "    Adamic Adar\n",
    "    '''\n",
    "    similarity = 0.0\n",
    "    for neighbor in common_neighbors(G,source,target):\n",
    "        degree = G.degree[neighbor]\n",
    "        if degree > 1:\n",
    "            similarity += 1 / math.log(degree)\n",
    "    return similarity\n",
    "\n",
    "def CN(G:nx.Graph, source:int, target:int)->float:\n",
    "    '''\n",
    "    Common Neighbor\n",
    "    '''\n",
    "    return len(common_neighbors(G,source,target))\n",
    "\n",
    "def SI(G:nx.Graph, source:int, target:int)->float:\n",
    "    '''\n",
    "    Sorensen Index\n",
    "    '''\n",
    "    if (G.degree[source]+G.degree[target]) ==0:\n",
    "        return 0\n",
    "    return 2*CN(G,source,target)/(G.degree[source]+G.degree[target])\n",
    "\n",
    "def JI(G:nx.Graph, source:int, target:int)->float:\n",
    "    '''\n",
    "    Jaccard Index\n",
    "    '''\n",
    "    s_neighbors = list(G.adj[source].keys())\n",
    "    t_neighbors = list(G.adj[target].keys())\n",
    "    common_neighbors = set(s_neighbors).intersection(t_neighbors)\n",
    "    all_neighbors = set(s_neighbors).union(t_neighbors)\n",
    "    if len(all_neighbors)==0:\n",
    "        return 0\n",
    "    return len(common_neighbors)/len(all_neighbors)\n",
    "\n",
    "def RA(G:nx.Graph, source:int, target:int)->float:\n",
    "    '''\n",
    "    Resource Allocation\n",
    "    '''\n",
    "    similarity = 0.0\n",
    "    for neighbor in common_neighbors(G,source,target):\n",
    "        degree = G.degree[neighbor]\n",
    "        if degree > 1:\n",
    "            similarity += 1 / degree\n",
    "    return similarity\n",
    "\n",
    "def HPI(G:nx.Graph, source:int, target:int)->float:\n",
    "    '''\n",
    "    Hub Promoted Index\n",
    "    '''\n",
    "    if min([G.degree[source],G.degree[target]]) ==0 :\n",
    "        return 0\n",
    "    return CN(G,source,target)/min([G.degree[source],G.degree[target]])\n",
    "\n",
    "def create_metric_vector(tup):\n",
    "    G=tup[0]\n",
    "    source= tup[1]\n",
    "    target= tup[2]\n",
    "    functions = [CND, PA, AA, CN, SI, JI, RA, HPI,distance_description]\n",
    "    outputs = []\n",
    "    for func in functions:\n",
    "        output = func(G, source, target)\n",
    "        outputs.append(output)\n",
    "    return outputs"
   ]
  },
  {
   "cell_type": "markdown",
   "id": "7af27824",
   "metadata": {},
   "source": [
    "# Build Dataset"
   ]
  },
  {
   "cell_type": "code",
   "execution_count": 13,
   "id": "446e9697",
   "metadata": {},
   "outputs": [],
   "source": [
    "from multiprocessing import Pool\n",
    "from tqdm import tqdm\n",
    "\n",
    "def makedataset(df):\n",
    "    label=df.label\n",
    "    data=[]\n",
    "    allind=len(df.index)\n",
    "    counter=0\n",
    "    tups=[]\n",
    "    for i in tqdm(range(len(df.index))):\n",
    "        row = df.iloc[i]\n",
    "\n",
    "        tups.append((G,row.id1,row.id2))\n",
    "    with Pool(14) as p:\n",
    "        data=p.map(create_metric_vector, tups)\n",
    "    \n",
    "    datadf=pd.DataFrame(data)\n",
    "    return datadf,label\n",
    "\n",
    "def makedatasetapply(df):\n",
    "    label=df.label\n",
    "    datadf = df.progress_apply(lambda row: create_metric_vector((G,row['id1'],row['id2'])), axis=1,result_type='expand')\n",
    "    return datadf,label"
   ]
  },
  {
   "cell_type": "markdown",
   "id": "105912dc",
   "metadata": {},
   "source": [
    "## Build test and Train \n",
    "In case of tqdm used:\n",
    "!pip install tqdm"
   ]
  },
  {
   "cell_type": "code",
   "execution_count": 14,
   "id": "a1ba205a",
   "metadata": {},
   "outputs": [
    {
     "name": "stderr",
     "output_type": "stream",
     "text": [
      "100%|████████████████████████████| 189647/189647 [00:06<00:00, 30079.56it/s]\n"
     ]
    },
    {
     "name": "stdout",
     "output_type": "stream",
     "text": [
      " Test data ready after: 186.9898030757904\n"
     ]
    }
   ],
   "source": [
    "import time\n",
    "\n",
    "start = time.time()\n",
    "Xtest,Ytest=makedataset(df_edges_test)\n",
    "end = time.time()\n",
    "print(f\" Test data ready after: {end - start}\")\n",
    "\n"
   ]
  },
  {
   "cell_type": "code",
   "execution_count": 15,
   "id": "4b725440",
   "metadata": {},
   "outputs": [
    {
     "name": "stderr",
     "output_type": "stream",
     "text": [
      "100%|████████████████████████████| 758585/758585 [00:24<00:00, 30638.39it/s]\n"
     ]
    },
    {
     "name": "stdout",
     "output_type": "stream",
     "text": [
      " Train data ready after: 1263.8054313659668\n"
     ]
    }
   ],
   "source": [
    "start = time.time()\n",
    "X,Y=makedataset(df_edges)\n",
    "end = time.time()\n",
    "print(f\" Train data ready after: {end - start}\")"
   ]
  },
  {
   "cell_type": "markdown",
   "id": "c819801a",
   "metadata": {},
   "source": [
    "# Fit Classifier and predic"
   ]
  },
  {
   "cell_type": "code",
   "execution_count": 19,
   "id": "deaa87b8",
   "metadata": {},
   "outputs": [
    {
     "name": "stdout",
     "output_type": "stream",
     "text": [
      "0.007842600825296947\n"
     ]
    }
   ],
   "source": [
    "from sklearn.metrics import f1_score\n",
    "from xgboost import XGBClassifier\n",
    "\n",
    "model = XGBClassifier()\n",
    "\n",
    "#X_train, X_test, y_trainn, y_test = train_test_split(X, Y, test_size=0.2, random_state=42)\n",
    "model.fit(X.values, Y.values)\n",
    "preds = model.predict(Xtest.values)\n",
    "f1=f1_score(Ytest.values, preds)\n",
    "print(f1)"
   ]
  },
  {
   "cell_type": "code",
   "execution_count": 20,
   "id": "fc5cfa7a",
   "metadata": {},
   "outputs": [
    {
     "name": "stdout",
     "output_type": "stream",
     "text": [
      "758585    1\n",
      "758586    1\n",
      "758587    0\n",
      "758588    1\n",
      "758589    0\n",
      "758590    1\n",
      "758591    1\n",
      "758592    0\n",
      "758593    0\n",
      "758594    1\n",
      "Name: label, dtype: int64\n",
      "     0  1    2  3    4    5    6    7         8\n",
      "0  0.0  0  0.0  0  0.0  0.0  0.0  0.0  0.233860\n",
      "1  0.0  0  0.0  0  0.0  0.0  0.0  0.0  0.367158\n",
      "2  0.0  0  0.0  0  0.0  0.0  0.0  0.0  0.015094\n",
      "3  0.0  0  0.0  0  0.0  0.0  0.0  0.0  0.503240\n",
      "4  0.0  0  0.0  0  0.0  0.0  0.0  0.0  0.001706\n",
      "5  0.0  0  0.0  0  0.0  0.0  0.0  0.0  0.351744\n",
      "6  0.0  0  0.0  0  0.0  0.0  0.0  0.0  0.061002\n",
      "7  0.0  0  0.0  0  0.0  0.0  0.0  0.0  0.005097\n",
      "8  0.0  0  0.0  0  0.0  0.0  0.0  0.0  0.041449\n",
      "9  0.0  0  0.0  0  0.0  0.0  0.0  0.0  0.204484\n"
     ]
    }
   ],
   "source": [
    "print(Ytest[:10])\n",
    "print(Xtest[:10])"
   ]
  },
  {
   "cell_type": "markdown",
   "id": "2373608e",
   "metadata": {},
   "source": [
    "# SIMPLE TF IDF"
   ]
  },
  {
   "cell_type": "code",
   "execution_count": 31,
   "id": "4d578a9f",
   "metadata": {},
   "outputs": [
    {
     "name": "stdout",
     "output_type": "stream",
     "text": [
      "0.9323874044136888\n"
     ]
    }
   ],
   "source": [
    "mypreds=[vec[-1]>0.0505 for vec in Xtest.values]\n",
    "\n",
    "f1=f1_score(Ytest.values, mypreds)\n",
    "print(f1)"
   ]
  },
  {
   "cell_type": "code",
   "execution_count": null,
   "id": "5e91d342",
   "metadata": {},
   "outputs": [],
   "source": []
  }
 ],
 "metadata": {
  "kernelspec": {
   "display_name": "Python 3 (ipykernel)",
   "language": "python",
   "name": "python3"
  },
  "language_info": {
   "codemirror_mode": {
    "name": "ipython",
    "version": 3
   },
   "file_extension": ".py",
   "mimetype": "text/x-python",
   "name": "python",
   "nbconvert_exporter": "python",
   "pygments_lexer": "ipython3",
   "version": "3.10.9"
  }
 },
 "nbformat": 4,
 "nbformat_minor": 5
}
